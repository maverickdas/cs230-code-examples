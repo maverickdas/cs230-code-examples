{
 "cells": [
  {
   "cell_type": "code",
   "execution_count": 1,
   "metadata": {},
   "outputs": [],
   "source": [
    "import torch\n",
    "import torch.nn as nn\n",
    "import torch.optim as optim\n",
    "from torch.utils.data import DataLoader, Dataset\n",
    "import os.path as osp\n",
    "import os\n",
    "from collections import defaultdict"
   ]
  },
  {
   "cell_type": "code",
   "execution_count": 2,
   "metadata": {},
   "outputs": [
    {
     "name": "stdout",
     "output_type": "stream",
     "text": [
      "\u001b[34;42mdata/kaggle/\u001b[00m\n",
      "├── dataset_params.json\n",
      "├── ner_dataset.csv\n",
      "├── tags.txt\n",
      "├── \u001b[34;42mtest\u001b[00m\n",
      "│   ├── labels.txt\n",
      "│   └── sentences.txt\n",
      "├── \u001b[34;42mtrain\u001b[00m\n",
      "│   ├── labels.txt\n",
      "│   └── sentences.txt\n",
      "├── \u001b[34;42mval\u001b[00m\n",
      "│   ├── labels.txt\n",
      "│   └── sentences.txt\n",
      "└── words.txt\n",
      "\n",
      "3 directories, 10 files\n",
      "['data/kaggle/.gitkeep', 'data/kaggle/dataset_params.json', 'data/kaggle/ner_dataset.csv', 'data/kaggle/tags.txt', 'data/kaggle/words.txt', 'data/kaggle/test/labels.txt', 'data/kaggle/test/sentences.txt', 'data/kaggle/train/labels.txt', 'data/kaggle/train/sentences.txt', 'data/kaggle/val/labels.txt', 'data/kaggle/val/sentences.txt']\n"
     ]
    }
   ],
   "source": [
    "data_root = \"data/kaggle/\"\n",
    "files_list = []\n",
    "for root, dirs, files in os.walk(data_root):\n",
    "    for f in files:\n",
    "        if f is not None:\n",
    "            files_list.append(osp.join(root, f))\n",
    "\n",
    "!tree $data_root\n",
    "print(files_list)"
   ]
  },
  {
   "cell_type": "code",
   "execution_count": 3,
   "metadata": {},
   "outputs": [
    {
     "data": {
      "text/plain": [
       "defaultdict(str, {'vocab': 'data/kaggle/words.txt'})"
      ]
     },
     "execution_count": 3,
     "metadata": {},
     "output_type": "execute_result"
    }
   ],
   "source": [
    "files_dict = defaultdict(str)\n",
    "for f in files_list:\n",
    "    if 'words.txt' in f:\n",
    "        files_dict['vocab'] = f\n",
    "files_dict"
   ]
  },
  {
   "cell_type": "code",
   "execution_count": null,
   "metadata": {},
   "outputs": [],
   "source": []
  }
 ],
 "metadata": {
  "kernelspec": {
   "display_name": "Python 3",
   "language": "python",
   "name": "python3"
  },
  "language_info": {
   "codemirror_mode": {
    "name": "ipython",
    "version": 3
   },
   "file_extension": ".py",
   "mimetype": "text/x-python",
   "name": "python",
   "nbconvert_exporter": "python",
   "pygments_lexer": "ipython3",
   "version": "3.6.9"
  }
 },
 "nbformat": 4,
 "nbformat_minor": 4
}
